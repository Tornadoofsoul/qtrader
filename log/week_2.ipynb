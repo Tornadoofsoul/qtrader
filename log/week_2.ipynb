{
 "cells": [
  {
   "cell_type": "markdown",
   "metadata": {
    "slideshow": {
     "slide_type": "slide"
    }
   },
   "source": [
    "# Week 2\n",
    "\n",
    "**`Agent::API::base`**\n",
    "* `fit` method\n",
    "* private API (agent-specific)\n",
    "* public API (environment runner friendly)\n",
    "\n",
    "**`Environment::API::runner`**\n",
    "* fixed agent API\n",
    "* multiple episodes"
   ]
  },
  {
   "cell_type": "code",
   "execution_count": 1,
   "metadata": {
    "slideshow": {
     "slide_type": "skip"
    }
   },
   "outputs": [
    {
     "name": "stdout",
     "output_type": "stream",
     "text": [
      "/Users/alpha/Developer/qtrader\n"
     ]
    }
   ],
   "source": [
    "# change current working directory\n",
    "%cd .."
   ]
  },
  {
   "cell_type": "code",
   "execution_count": 2,
   "metadata": {
    "slideshow": {
     "slide_type": "skip"
    }
   },
   "outputs": [],
   "source": [
    "# suppress warning messages\n",
    "import warnings\n",
    "warnings.filterwarnings('ignore')\n",
    "\n",
    "# trading environment\n",
    "from qtrader.envs import TradingEnv\n",
    "\n",
    "# YAML parser\n",
    "import yaml\n",
    "\n",
    "# OpenAI Gym\n",
    "import gym\n",
    "\n",
    "# # visualization\n",
    "import matplotlib.pyplot as plt"
   ]
  },
  {
   "cell_type": "code",
   "execution_count": 3,
   "metadata": {
    "slideshow": {
     "slide_type": "skip"
    }
   },
   "outputs": [
    {
     "name": "stdout",
     "output_type": "stream",
     "text": [
      "start date: 2017-01-01\n",
      "trading frequency: W-FRI\n",
      "trading universe: ['AAPL', 'GE', 'JPM']\n",
      "number of episodes: 100\n"
     ]
    }
   ],
   "source": [
    "# fetch configuration file\n",
    "config = yaml.load(open('config/log/week_2.yaml', 'r'))\n",
    "\n",
    "# configuration summary\n",
    "print(f\"start date: {config['start_date']}\")\n",
    "print(f\"trading frequency: {config['freq']}\")\n",
    "print(f\"trading universe: {config['tickers']}\")\n",
    "print(f\"number of episodes: {config['num_episodes']}\")"
   ]
  },
  {
   "cell_type": "markdown",
   "metadata": {
    "slideshow": {
     "slide_type": "skip"
    }
   },
   "source": [
    "### Trading Environment\n",
    "\n",
    "Initialize a trading environment, with which the agents will interact."
   ]
  },
  {
   "cell_type": "code",
   "execution_count": 4,
   "metadata": {
    "slideshow": {
     "slide_type": "skip"
    }
   },
   "outputs": [],
   "source": [
    "# initialize environment\n",
    "env = TradingEnv(universe=config['tickers'],\n",
    "                 trading_period=config['freq'],\n",
    "                 csv=config['csv_file_prices'])"
   ]
  },
  {
   "cell_type": "markdown",
   "metadata": {
    "slideshow": {
     "slide_type": "slide"
    }
   },
   "source": [
    "## `Agent`\n",
    "\n",
    "Base class for agents that complies with interface for automatic execution of environment.\n",
    "* **private**: agent-specific methods\n",
    "* **public**: API accessed by the `run` method"
   ]
  },
  {
   "cell_type": "code",
   "execution_count": 5,
   "metadata": {
    "slideshow": {
     "slide_type": "skip"
    }
   },
   "outputs": [],
   "source": [
    "class Agent:\n",
    "    \"\"\"Base class for agents in OpenAI Gym\n",
    "    compatible environments.\"\"\"\n",
    "\n",
    "    _id = 'base'\n",
    "\n",
    "    def __init__(self, **kwargs):\n",
    "        raise NotImplementedError\n",
    "\n",
    "    #######\n",
    "    # API\n",
    "    #######\n",
    "\n",
    "    @property\n",
    "    def name(self):\n",
    "        return self._id\n",
    "\n",
    "    def begin_episode(self, observation):\n",
    "        pass\n",
    "\n",
    "    def act(self, observation):\n",
    "        raise NotImplementedError\n",
    "\n",
    "    def observe(self, observation, action, reward, done, next_observation):\n",
    "        pass\n",
    "\n",
    "    def end_episode(self):\n",
    "        pass\n",
    "    \n",
    "    def fit(self, env, num_episodes=1, verbose=False):\n",
    "        return run(env, self, num_episodes, True, verbose)"
   ]
  },
  {
   "cell_type": "markdown",
   "metadata": {
    "slideshow": {
     "slide_type": "slide"
    }
   },
   "source": [
    "### `RandomAgent`\n",
    "\n",
    "Example random agent, implementing the common interface.\n",
    "Suitable to implement `act` method only."
   ]
  },
  {
   "cell_type": "code",
   "execution_count": 6,
   "metadata": {
    "slideshow": {
     "slide_type": "skip"
    }
   },
   "outputs": [],
   "source": [
    "class RandomAgent(Agent):\n",
    "    \"\"\"Random agent.\"\"\"\n",
    "\n",
    "    _id = 'random'\n",
    "\n",
    "    def __init__(self, action_space):\n",
    "        self.action_space = action_space\n",
    "\n",
    "    #######\n",
    "    # API\n",
    "    #######\n",
    "\n",
    "    def act(self, observation):\n",
    "        \"\"\"Randomly sample an action\n",
    "        from action space.\"\"\"\n",
    "        return self.action_space.sample()"
   ]
  },
  {
   "cell_type": "markdown",
   "metadata": {
    "slideshow": {
     "slide_type": "slide"
    }
   },
   "source": [
    "## `run`\n",
    "\n",
    "OpenAI gym environments automated execution runner."
   ]
  },
  {
   "cell_type": "code",
   "execution_count": 7,
   "metadata": {
    "slideshow": {
     "slide_type": "skip"
    }
   },
   "outputs": [],
   "source": [
    "def run(env, agent, num_episodes, record, log):\n",
    "    \"\"\"Run episode on the `env` using `agent`.\n",
    "\n",
    "    Parameters\n",
    "    ----------\n",
    "    env: gym.Env\n",
    "        OpenAI Gym compatible environment\n",
    "    agent: qtrader.agent.base.Agent\n",
    "        Agent to interact with the environment\n",
    "    num_episodes: int\n",
    "        Number of episodes to run\n",
    "    record: bool\n",
    "        Keep record of actions & rewards for each step\n",
    "    log: bool\n",
    "        Flag for logging at the end of each episode\n",
    "\n",
    "    Returns\n",
    "    -------\n",
    "    rewards: list\n",
    "        List of rewards per step per episode\n",
    "    actions: list\n",
    "        List of actions per step per episode\n",
    "    \"\"\"\n",
    "    # unregister all agents from environment\n",
    "    if hasattr(env, 'unregister'):\n",
    "        # when agent=None, all agents unregistered\n",
    "        env.unregister(agent=None)\n",
    "    # register agent to environment if needed\n",
    "    if hasattr(env, 'register'):\n",
    "        # assign random name if not given\n",
    "        if not hasattr(agent, 'name'):\n",
    "            agent.name = '_default'\n",
    "        # register agent, duplicates are ignored\n",
    "        env.register(agent)\n",
    "    # initialize rewards buffer\n",
    "    rewards = []\n",
    "    # initialize actions buffer\n",
    "    actions = []\n",
    "\n",
    "    def _run():\n",
    "        \"\"\"Closure runner for each episode.\"\"\"\n",
    "        # initialize rewards local buffer\n",
    "        _rewards = []\n",
    "        # initialize actions local buffer\n",
    "        _actions = []\n",
    "        # environment: reset & fetch observation\n",
    "        ob = env.reset()\n",
    "        # initialize reward\n",
    "        reward = 0.0\n",
    "        # termination flag\n",
    "        done = False\n",
    "        # environment state information\n",
    "        info = {}\n",
    "        # iterator for maximum episode steps\n",
    "        j = 0\n",
    "        # agent closure: beginning of episode\n",
    "        agent.begin_episode(ob)\n",
    "        # interaction loop\n",
    "        while (not done) and (j < env._max_episode_steps):\n",
    "            # agent closure: determine action\n",
    "            action = agent.act(ob)\n",
    "            # class 1: trading environments\n",
    "            if hasattr(env, 'register'):\n",
    "                # environment: take action\n",
    "                ob_, reward, done, info = env.step({agent.name: action})\n",
    "                # fetch agent-specific reward\n",
    "                reward = reward[agent.name]\n",
    "            # class 2: vanilla environments\n",
    "            else:\n",
    "                # environment: take action\n",
    "                ob_, reward, done, info = env.step(action)\n",
    "            # store reward\n",
    "            _rewards.append(reward)\n",
    "            # store action\n",
    "            _actions.append(action)\n",
    "            # agent closure: observe\n",
    "            agent.observe(ob, action, reward, done, ob_)\n",
    "            # set new observation to current\n",
    "            ob = ob_\n",
    "            # increment iterator\n",
    "            j = j + 1\n",
    "        # agent closure: end of episode\n",
    "        agent.end_episode()\n",
    "        return _rewards, _actions\n",
    "\n",
    "    for e in range(num_episodes):\n",
    "        # run episode\n",
    "        R, A = _run()\n",
    "        # episode-wise records\n",
    "        if record:\n",
    "            # store rewards\n",
    "            rewards.append(R)\n",
    "            # store actions\n",
    "            actions.append(A)\n",
    "        # log cumulative rewards\n",
    "        if log:\n",
    "            print('episode: %4d, cumulative reward: %+.5f' % (e, sum(R)))\n",
    "    return rewards, actions"
   ]
  },
  {
   "cell_type": "markdown",
   "metadata": {
    "slideshow": {
     "slide_type": "slide"
    }
   },
   "source": [
    "### Experiments\n",
    "\n",
    "Combine `RandomAgent` and `run` on a common OpenAI environment, the **`CartPole-v1`**,\n",
    "and on the custom trading environment, the **`TradingEnv`**."
   ]
  },
  {
   "cell_type": "markdown",
   "metadata": {
    "slideshow": {
     "slide_type": "subslide"
    }
   },
   "source": [
    "#### `CartPole-v1`"
   ]
  },
  {
   "cell_type": "code",
   "execution_count": 8,
   "metadata": {
    "slideshow": {
     "slide_type": "skip"
    }
   },
   "outputs": [
    {
     "name": "stdout",
     "output_type": "stream",
     "text": [
      "\u001b[33mWARN: gym.spaces.Box autodetected dtype as <class 'numpy.float32'>. Please provide explicit dtype.\u001b[0m\n"
     ]
    }
   ],
   "source": [
    "# initialize environment\n",
    "env = gym.make('CartPole-v1')\n",
    "# initialize agent\n",
    "agent = RandomAgent(env.action_space)\n",
    "# execute environment\n",
    "rewards, actions = run(env, agent, config['num_episodes'], True, False)"
   ]
  },
  {
   "cell_type": "code",
   "execution_count": 9,
   "metadata": {
    "slideshow": {
     "slide_type": "subslide"
    }
   },
   "outputs": [
    {
     "data": {
      "image/png": "[encoded data removed]",
      "text/plain": [
       "<Figure size 1382.4x345.6 with 1 Axes>"
      ]
     },
     "metadata": {},
     "output_type": "display_data"
    }
   ],
   "source": [
    "# initialize figure & axes\n",
    "fig, axes = plt.subplots(figsize=(19.2, 4.8))\n",
    "# plot cumulative reward per-episode\n",
    "for j in range(len(rewards)):\n",
    "    axes.bar(j+1, sum(rewards[j]), color='g')\n",
    "# axes settings\n",
    "axes.set(title='CartPole-v1: Score per Episode', ylabel='Score', xlabel='Episode, #');"
   ]
  },
  {
   "cell_type": "markdown",
   "metadata": {
    "slideshow": {
     "slide_type": "subslide"
    }
   },
   "source": [
    "#### `TradingEnv`"
   ]
  },
  {
   "cell_type": "code",
   "execution_count": 10,
   "metadata": {
    "slideshow": {
     "slide_type": "skip"
    }
   },
   "outputs": [],
   "source": [
    "# initialize environment\n",
    "env = TradingEnv(universe=config['tickers'],\n",
    "                 trading_period=config['freq'],\n",
    "                 start_date=config['start_date'],\n",
    "                 csv=config['csv_file_prices'])\n",
    "# initialize agent\n",
    "agent = RandomAgent(action_space=env.action_space)\n",
    "# execute environment\n",
    "rewards, actions = run(env, agent, config['num_episodes'], True, False)"
   ]
  },
  {
   "cell_type": "code",
   "execution_count": 11,
   "metadata": {
    "slideshow": {
     "slide_type": "subslide"
    }
   },
   "outputs": [
    {
     "data": {
      "image/png": "[encoded data removed]",
      "text/plain": [
       "<Figure size 1382.4x345.6 with 1 Axes>"
      ]
     },
     "metadata": {},
     "output_type": "display_data"
    }
   ],
   "source": [
    "# initialize figure & axes\n",
    "fig, axes = plt.subplots(figsize=(19.2, 4.8))\n",
    "# plot cumulative reward per-episode\n",
    "for j in range(len(rewards)):\n",
    "    axes.bar(j+1, sum(rewards[j]), color='r')\n",
    "# axes settings\n",
    "axes.set(title='TradingEnv: Score per Episode', ylabel='Score', xlabel='Episode, #');"
   ]
  },
  {
   "cell_type": "markdown",
   "metadata": {
    "slideshow": {
     "slide_type": "slide"
    }
   },
   "source": [
    "## `agent.fit`\n",
    "\n",
    "Following `scikit-learn` API, the agent base class has a method **`fit`** which calls `run`\n",
    "internally for training the agent. The method can be reimplemented by derived agents."
   ]
  },
  {
   "cell_type": "code",
   "execution_count": 12,
   "metadata": {
    "slideshow": {
     "slide_type": "skip"
    }
   },
   "outputs": [
    {
     "name": "stdout",
     "output_type": "stream",
     "text": [
      "\u001b[33mWARN: gym.spaces.Box autodetected dtype as <class 'numpy.float32'>. Please provide explicit dtype.\u001b[0m\n"
     ]
    }
   ],
   "source": [
    "# initialize environment\n",
    "env = gym.make('CartPole-v1')\n",
    "# initialize agent\n",
    "agent = RandomAgent(env.action_space)\n",
    "# execute environment\n",
    "rewards, actions = agent.fit(env, config['num_episodes'])"
   ]
  },
  {
   "cell_type": "code",
   "execution_count": 13,
   "metadata": {
    "slideshow": {
     "slide_type": "subslide"
    }
   },
   "outputs": [
    {
     "data": {
      "image/png": "[encoded data removed]",
      "text/plain": [
       "<Figure size 1382.4x345.6 with 1 Axes>"
      ]
     },
     "metadata": {},
     "output_type": "display_data"
    }
   ],
   "source": [
    "# initialize figure & axes\n",
    "fig, axes = plt.subplots(figsize=(19.2, 4.8))\n",
    "# plot cumulative reward per-episode\n",
    "for j in range(len(rewards)):\n",
    "    axes.bar(j+1, sum(rewards[j]), color='y')\n",
    "# axes settings\n",
    "axes.set(title='CartPole-v1: Score per Episode', ylabel='Score', xlabel='Episode, #');"
   ]
  }
 ],
 "metadata": {
  "celltoolbar": "Slideshow",
  "kernelspec": {
   "display_name": "qtrader",
   "language": "python",
   "name": "qtrader"
  },
  "language_info": {
   "codemirror_mode": {
    "name": "ipython",
    "version": 3
   },
   "file_extension": ".py",
   "mimetype": "text/x-python",
   "name": "python",
   "nbconvert_exporter": "python",
   "pygments_lexer": "ipython3",
   "version": "3.6.5"
  }
 },
 "nbformat": 4,
 "nbformat_minor": 2
}
